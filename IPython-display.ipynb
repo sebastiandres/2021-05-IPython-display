{
 "cells": [
  {
   "cell_type": "markdown",
   "id": "02f81060",
   "metadata": {},
   "source": [
    "# Probando Display de Objetos en Jupyter Notebook\n",
    "\n",
    "En IPython.display existen 23 clases que son muy prácticas para agregar interactividad a Jupyter Notebook/Lab.\n",
    "Acá los probamos todos."
   ]
  },
  {
   "cell_type": "markdown",
   "id": "4f31f8bc",
   "metadata": {},
   "source": [
    "## 1. Antes de: principales errores\n",
    "\n",
    "Mi principal aprendizaje es que lo que se genera son objetos de distintos tipos. Los objetos no se muestran por defecto. Si el objeto es el resultado de la celda, el objeto se despliega por defecto. Sino es el resultado de la celda, no se muestra. \n",
    "\n",
    "Es posible mostrar uno o varios objetos, con la función display. Display funciona en jupyter notebook/lab, pero no en python o IPython."
   ]
  },
  {
   "cell_type": "code",
   "execution_count": null,
   "id": "d3d7c2d0",
   "metadata": {},
   "outputs": [],
   "source": [
    "# Ejemplo 1 : uso típico\n",
    "from IPython.display import Audio\n",
    "Audio(\"http://www.w3schools.com/html/horse.ogg\")"
   ]
  },
  {
   "cell_type": "code",
   "execution_count": null,
   "id": "b66ef316",
   "metadata": {},
   "outputs": [],
   "source": [
    "# Ejemplo 2 : uso erróneo - no mostrará objeto\n",
    "from IPython.display import Audio\n",
    "a = Audio(\"http://www.w3schools.com/html/horse.ogg\")"
   ]
  },
  {
   "cell_type": "code",
   "execution_count": null,
   "id": "8fbf7239",
   "metadata": {},
   "outputs": [],
   "source": [
    "# Ejemplo 3 : uso equivalente\n",
    "from IPython.display import Audio, display\n",
    "a = Audio(\"http://www.w3schools.com/html/horse.ogg\")\n",
    "display(a)"
   ]
  },
  {
   "cell_type": "code",
   "execution_count": null,
   "id": "2fa29ae4",
   "metadata": {
    "scrolled": true
   },
   "outputs": [],
   "source": [
    "# Ejemplo 4: Varios\n",
    "from IPython.display import Audio, Image, display\n",
    "a = Audio(\"http://www.w3schools.com/html/horse.ogg\")\n",
    "i1 = Image(filename=\"images/Python.png\", width=100)\n",
    "i2 = Image(filename=\"images/Python.jpg\", width=150)\n",
    "display(a,i1,i2)"
   ]
  },
  {
   "cell_type": "markdown",
   "id": "53a21517",
   "metadata": {},
   "source": [
    "En lugar de usar el orden alfabético, se presentan los objetos de manera temática:\n",
    "* **Páginas web**\n",
    "    * HTML\n",
    "    * IFrame\n",
    "* **Texto o Código**\n",
    "    * Code\n",
    "    * FileLink y FileLinks\n",
    "    * Javascript\n",
    "    * Latex\n",
    "    * Markdown\n",
    "    * Math\n",
    "    * Scribd Document\n",
    "* **Imágenes**\n",
    "    * SVG\n",
    "    * Image\n",
    "* **Video**\n",
    "    * Video\n",
    "    * VimeoVideo\n",
    "    * YoutubeVideo\n",
    "* **Audio**\n",
    "    * Audio\n",
    "* **Otros**\n",
    "    * JSON\n",
    "    * GEOJSon\n",
    "    * TextDisplayObject\n",
    "    * DisplayObject\n",
    "    * DisplayHandle\n",
    "    * Pretty"
   ]
  },
  {
   "cell_type": "markdown",
   "id": "d18e6f49",
   "metadata": {},
   "source": [
    "## 2. Páginas web"
   ]
  },
  {
   "cell_type": "markdown",
   "id": "9966a78d",
   "metadata": {},
   "source": [
    "### 2.1 IFrame\n",
    "\n",
    "```python\n",
    "IFrame(src, \n",
    "       width, \n",
    "       height, \n",
    "       **kwargs)\n",
    "```\n",
    "\n",
    "Permite insertar una página web como un IFrame (inline frame). La página debe permitirlo (no todas lo hacen). Por ejemplo, para insertar una encuesta o una referencia.\n",
    "\n",
    "Métodos o atributos del objeto creado:\n",
    "* `iframe`: String con la representación HTML del objeto."
   ]
  },
  {
   "cell_type": "code",
   "execution_count": 62,
   "id": "182aacdc",
   "metadata": {},
   "outputs": [
    {
     "data": {
      "text/html": [
       "\n",
       "        <iframe\n",
       "            width=\"600\"\n",
       "            height=\"400\"\n",
       "            src=\"https://es.wikipedia.org/wiki/Python\"\n",
       "            frameborder=\"0\"\n",
       "            allowfullscreen\n",
       "        ></iframe>\n",
       "        "
      ],
      "text/plain": [
       "<IPython.lib.display.IFrame at 0x10e222690>"
      ]
     },
     "execution_count": 62,
     "metadata": {},
     "output_type": "execute_result"
    }
   ],
   "source": [
    "from IPython.display import IFrame\n",
    "IFrame(\"https://es.wikipedia.org/wiki/Python\", width=600, height=400)"
   ]
  },
  {
   "cell_type": "markdown",
   "id": "1a287648",
   "metadata": {},
   "source": [
    "Más información"
   ]
  },
  {
   "cell_type": "code",
   "execution_count": null,
   "id": "2c8fd91c",
   "metadata": {},
   "outputs": [],
   "source": [
    "from IPython.display import IFrame\n",
    "IFrame?"
   ]
  },
  {
   "cell_type": "code",
   "execution_count": null,
   "id": "85f1b6e5",
   "metadata": {},
   "outputs": [],
   "source": [
    "from IPython.display import IFrame\n",
    "print(\"Methods:\")\n",
    "print(sorted([f for f in dir(IFrame) if not f.startswith('_')]))\n"
   ]
  },
  {
   "cell_type": "markdown",
   "id": "152bd137",
   "metadata": {},
   "source": [
    "### 2.8 HTML\n",
    "\n",
    "```python\n",
    "HTML(data=None, \n",
    "     url=None, \n",
    "     filename=None, \n",
    "     metadata=None)\n",
    "```\n",
    "\n",
    "Observación/Consejos: No incluir secciones de `<html>`, `<head>` o `<body>`.\n",
    "\n",
    "Métodos o atributos del objeto creado:\n",
    "* **metadata**: String con la metadata con la que fue creado el objeto.\n",
    "* **reaload**: Recargar el contenido del objeto, si fue creado desde url o archivo."
   ]
  },
  {
   "cell_type": "code",
   "execution_count": 63,
   "id": "672118a5",
   "metadata": {},
   "outputs": [
    {
     "data": {
      "text/html": [
       "<p>Este es un ejemplo. Este es un texto en <b>negritas</b> y éste es uno en <i>itálicas</i>.</p>"
      ],
      "text/plain": [
       "<IPython.core.display.HTML object>"
      ]
     },
     "execution_count": 63,
     "metadata": {},
     "output_type": "execute_result"
    }
   ],
   "source": [
    "# Ejemplo 1: HTML simple\n",
    "from IPython.display import HTML\n",
    "HTML(\"<p>Este es un ejemplo. Este es un texto en <b>negritas</b> y éste es uno en <i>itálicas</i>.</p>\")"
   ]
  },
  {
   "cell_type": "code",
   "execution_count": 64,
   "id": "f5bb5741",
   "metadata": {},
   "outputs": [
    {
     "data": {
      "text/html": [
       "\n",
       "<script>\n",
       "function button_action(value){\n",
       "  alert('La variable tiene valor '+ value);\n",
       "};\n",
       "</script>\n",
       "\n",
       "<div> \n",
       "Variable: \n",
       "<input type='text' id='my_input_form' value='42'> \n",
       "<button onclick='button_action(document.getElementById(\"my_input_form\").value)'>Click</button>\n",
       "</div>\n"
      ],
      "text/plain": [
       "<IPython.core.display.HTML object>"
      ]
     },
     "execution_count": 64,
     "metadata": {},
     "output_type": "execute_result"
    }
   ],
   "source": [
    "# Ejemplo 2: HTML con javascript\n",
    "from IPython.display import HTML\n",
    "my_html = \"\"\"\n",
    "<script>\n",
    "function button_action(value){\n",
    "  alert('La variable tiene valor '+ value);\n",
    "};\n",
    "</script>\n",
    "\n",
    "<div> \n",
    "Variable: \n",
    "<input type='text' id='my_input_form' value='42'> \n",
    "<button onclick='button_action(document.getElementById(\"my_input_form\").value)'>Click</button>\n",
    "</div>\n",
    "\"\"\"\n",
    "HTML(data=my_html)"
   ]
  },
  {
   "cell_type": "code",
   "execution_count": 1,
   "id": "4b97bdef",
   "metadata": {},
   "outputs": [
    {
     "data": {
      "text/html": [
       "<h1>Título Página HTM</h1>\n",
       "\n",
       "<div id = \"navigation\">\n",
       "\n",
       "<p>\n",
       "  <label>Un título</label><br />\n",
       "  <textarea name=\"comment\" rows = \"4\"\n",
       "  cols = \"30\">Un texto</textarea> \n",
       "</p>\n",
       "\n",
       "<p>\n",
       "  <label>Una encuesta</label><br />\n",
       "  <input type=\"radio\" name=\"graph\"\n",
       "  value=\"1\" title=\"Straight line\" checked>Opción 1<br>\n",
       "  <input type=\"radio\" name=\"graph\" value=\"2\" title=\"Curve\">Opción 2<br>\n",
       "</p>\n",
       "    \n",
       "</div>"
      ],
      "text/plain": [
       "<IPython.core.display.HTML object>"
      ]
     },
     "execution_count": 1,
     "metadata": {},
     "output_type": "execute_result"
    }
   ],
   "source": [
    "# Ejemplo 3: filename\n",
    "from IPython.display import HTML\n",
    "my_filename = \"html/ejemplo.html\"\n",
    "HTML(filename=my_filename)"
   ]
  },
  {
   "cell_type": "code",
   "execution_count": 54,
   "id": "3387fcb3",
   "metadata": {},
   "outputs": [
    {
     "ename": "HTTPError",
     "evalue": "HTTP Error 403: Forbidden",
     "output_type": "error",
     "traceback": [
      "\u001b[0;31m---------------------------------------------------------------------------\u001b[0m",
      "\u001b[0;31mHTTPError\u001b[0m                                 Traceback (most recent call last)",
      "\u001b[0;32m<ipython-input-54-737e479f56a3>\u001b[0m in \u001b[0;36m<module>\u001b[0;34m\u001b[0m\n\u001b[1;32m      3\u001b[0m \u001b[0mmy_url\u001b[0m \u001b[0;34m=\u001b[0m \u001b[0;34m\"https://raw.githubusercontent.com/timqian/chart.xkcd/master/examples/example.html\"\u001b[0m\u001b[0;34m\u001b[0m\u001b[0;34m\u001b[0m\u001b[0m\n\u001b[1;32m      4\u001b[0m \u001b[0mmy_url\u001b[0m \u001b[0;34m=\u001b[0m \u001b[0;34m\"https://timqian.com/chart.xkcd/example.html\"\u001b[0m\u001b[0;34m\u001b[0m\u001b[0;34m\u001b[0m\u001b[0m\n\u001b[0;32m----> 5\u001b[0;31m \u001b[0mHTML\u001b[0m\u001b[0;34m(\u001b[0m\u001b[0murl\u001b[0m\u001b[0;34m=\u001b[0m\u001b[0mmy_url\u001b[0m\u001b[0;34m)\u001b[0m\u001b[0;34m\u001b[0m\u001b[0;34m\u001b[0m\u001b[0m\n\u001b[0m",
      "\u001b[0;32m/miniconda3/lib/python3.7/site-packages/IPython/core/display.py\u001b[0m in \u001b[0;36m__init__\u001b[0;34m(self, data, url, filename, metadata)\u001b[0m\n\u001b[1;32m    716\u001b[0m         \u001b[0;32mif\u001b[0m \u001b[0mwarn\u001b[0m\u001b[0;34m(\u001b[0m\u001b[0;34m)\u001b[0m\u001b[0;34m:\u001b[0m\u001b[0;34m\u001b[0m\u001b[0;34m\u001b[0m\u001b[0m\n\u001b[1;32m    717\u001b[0m             \u001b[0mwarnings\u001b[0m\u001b[0;34m.\u001b[0m\u001b[0mwarn\u001b[0m\u001b[0;34m(\u001b[0m\u001b[0;34m\"Consider using IPython.display.IFrame instead\"\u001b[0m\u001b[0;34m)\u001b[0m\u001b[0;34m\u001b[0m\u001b[0;34m\u001b[0m\u001b[0m\n\u001b[0;32m--> 718\u001b[0;31m         \u001b[0msuper\u001b[0m\u001b[0;34m(\u001b[0m\u001b[0mHTML\u001b[0m\u001b[0;34m,\u001b[0m \u001b[0mself\u001b[0m\u001b[0;34m)\u001b[0m\u001b[0;34m.\u001b[0m\u001b[0m__init__\u001b[0m\u001b[0;34m(\u001b[0m\u001b[0mdata\u001b[0m\u001b[0;34m=\u001b[0m\u001b[0mdata\u001b[0m\u001b[0;34m,\u001b[0m \u001b[0murl\u001b[0m\u001b[0;34m=\u001b[0m\u001b[0murl\u001b[0m\u001b[0;34m,\u001b[0m \u001b[0mfilename\u001b[0m\u001b[0;34m=\u001b[0m\u001b[0mfilename\u001b[0m\u001b[0;34m,\u001b[0m \u001b[0mmetadata\u001b[0m\u001b[0;34m=\u001b[0m\u001b[0mmetadata\u001b[0m\u001b[0;34m)\u001b[0m\u001b[0;34m\u001b[0m\u001b[0;34m\u001b[0m\u001b[0m\n\u001b[0m\u001b[1;32m    719\u001b[0m \u001b[0;34m\u001b[0m\u001b[0m\n\u001b[1;32m    720\u001b[0m     \u001b[0;32mdef\u001b[0m \u001b[0m_repr_html_\u001b[0m\u001b[0;34m(\u001b[0m\u001b[0mself\u001b[0m\u001b[0;34m)\u001b[0m\u001b[0;34m:\u001b[0m\u001b[0;34m\u001b[0m\u001b[0;34m\u001b[0m\u001b[0m\n",
      "\u001b[0;32m/miniconda3/lib/python3.7/site-packages/IPython/core/display.py\u001b[0m in \u001b[0;36m__init__\u001b[0;34m(self, data, url, filename, metadata)\u001b[0m\n\u001b[1;32m    628\u001b[0m             \u001b[0mself\u001b[0m\u001b[0;34m.\u001b[0m\u001b[0mmetadata\u001b[0m \u001b[0;34m=\u001b[0m \u001b[0;34m{\u001b[0m\u001b[0;34m}\u001b[0m\u001b[0;34m\u001b[0m\u001b[0;34m\u001b[0m\u001b[0m\n\u001b[1;32m    629\u001b[0m \u001b[0;34m\u001b[0m\u001b[0m\n\u001b[0;32m--> 630\u001b[0;31m         \u001b[0mself\u001b[0m\u001b[0;34m.\u001b[0m\u001b[0mreload\u001b[0m\u001b[0;34m(\u001b[0m\u001b[0;34m)\u001b[0m\u001b[0;34m\u001b[0m\u001b[0;34m\u001b[0m\u001b[0m\n\u001b[0m\u001b[1;32m    631\u001b[0m         \u001b[0mself\u001b[0m\u001b[0;34m.\u001b[0m\u001b[0m_check_data\u001b[0m\u001b[0;34m(\u001b[0m\u001b[0;34m)\u001b[0m\u001b[0;34m\u001b[0m\u001b[0;34m\u001b[0m\u001b[0m\n\u001b[1;32m    632\u001b[0m \u001b[0;34m\u001b[0m\u001b[0m\n",
      "\u001b[0;32m/miniconda3/lib/python3.7/site-packages/IPython/core/display.py\u001b[0m in \u001b[0;36mreload\u001b[0;34m(self)\u001b[0m\n\u001b[1;32m    658\u001b[0m             \u001b[0;31m# Deferred import\u001b[0m\u001b[0;34m\u001b[0m\u001b[0;34m\u001b[0m\u001b[0;34m\u001b[0m\u001b[0m\n\u001b[1;32m    659\u001b[0m             \u001b[0;32mfrom\u001b[0m \u001b[0murllib\u001b[0m\u001b[0;34m.\u001b[0m\u001b[0mrequest\u001b[0m \u001b[0;32mimport\u001b[0m \u001b[0murlopen\u001b[0m\u001b[0;34m\u001b[0m\u001b[0;34m\u001b[0m\u001b[0m\n\u001b[0;32m--> 660\u001b[0;31m             \u001b[0mresponse\u001b[0m \u001b[0;34m=\u001b[0m \u001b[0murlopen\u001b[0m\u001b[0;34m(\u001b[0m\u001b[0mself\u001b[0m\u001b[0;34m.\u001b[0m\u001b[0murl\u001b[0m\u001b[0;34m)\u001b[0m\u001b[0;34m\u001b[0m\u001b[0;34m\u001b[0m\u001b[0m\n\u001b[0m\u001b[1;32m    661\u001b[0m             \u001b[0mdata\u001b[0m \u001b[0;34m=\u001b[0m \u001b[0mresponse\u001b[0m\u001b[0;34m.\u001b[0m\u001b[0mread\u001b[0m\u001b[0;34m(\u001b[0m\u001b[0;34m)\u001b[0m\u001b[0;34m\u001b[0m\u001b[0;34m\u001b[0m\u001b[0m\n\u001b[1;32m    662\u001b[0m             \u001b[0;31m# extract encoding from header, if there is one:\u001b[0m\u001b[0;34m\u001b[0m\u001b[0;34m\u001b[0m\u001b[0;34m\u001b[0m\u001b[0m\n",
      "\u001b[0;32m/miniconda3/lib/python3.7/urllib/request.py\u001b[0m in \u001b[0;36murlopen\u001b[0;34m(url, data, timeout, cafile, capath, cadefault, context)\u001b[0m\n\u001b[1;32m    220\u001b[0m     \u001b[0;32melse\u001b[0m\u001b[0;34m:\u001b[0m\u001b[0;34m\u001b[0m\u001b[0;34m\u001b[0m\u001b[0m\n\u001b[1;32m    221\u001b[0m         \u001b[0mopener\u001b[0m \u001b[0;34m=\u001b[0m \u001b[0m_opener\u001b[0m\u001b[0;34m\u001b[0m\u001b[0;34m\u001b[0m\u001b[0m\n\u001b[0;32m--> 222\u001b[0;31m     \u001b[0;32mreturn\u001b[0m \u001b[0mopener\u001b[0m\u001b[0;34m.\u001b[0m\u001b[0mopen\u001b[0m\u001b[0;34m(\u001b[0m\u001b[0murl\u001b[0m\u001b[0;34m,\u001b[0m \u001b[0mdata\u001b[0m\u001b[0;34m,\u001b[0m \u001b[0mtimeout\u001b[0m\u001b[0;34m)\u001b[0m\u001b[0;34m\u001b[0m\u001b[0;34m\u001b[0m\u001b[0m\n\u001b[0m\u001b[1;32m    223\u001b[0m \u001b[0;34m\u001b[0m\u001b[0m\n\u001b[1;32m    224\u001b[0m \u001b[0;32mdef\u001b[0m \u001b[0minstall_opener\u001b[0m\u001b[0;34m(\u001b[0m\u001b[0mopener\u001b[0m\u001b[0;34m)\u001b[0m\u001b[0;34m:\u001b[0m\u001b[0;34m\u001b[0m\u001b[0;34m\u001b[0m\u001b[0m\n",
      "\u001b[0;32m/miniconda3/lib/python3.7/urllib/request.py\u001b[0m in \u001b[0;36mopen\u001b[0;34m(self, fullurl, data, timeout)\u001b[0m\n\u001b[1;32m    529\u001b[0m         \u001b[0;32mfor\u001b[0m \u001b[0mprocessor\u001b[0m \u001b[0;32min\u001b[0m \u001b[0mself\u001b[0m\u001b[0;34m.\u001b[0m\u001b[0mprocess_response\u001b[0m\u001b[0;34m.\u001b[0m\u001b[0mget\u001b[0m\u001b[0;34m(\u001b[0m\u001b[0mprotocol\u001b[0m\u001b[0;34m,\u001b[0m \u001b[0;34m[\u001b[0m\u001b[0;34m]\u001b[0m\u001b[0;34m)\u001b[0m\u001b[0;34m:\u001b[0m\u001b[0;34m\u001b[0m\u001b[0;34m\u001b[0m\u001b[0m\n\u001b[1;32m    530\u001b[0m             \u001b[0mmeth\u001b[0m \u001b[0;34m=\u001b[0m \u001b[0mgetattr\u001b[0m\u001b[0;34m(\u001b[0m\u001b[0mprocessor\u001b[0m\u001b[0;34m,\u001b[0m \u001b[0mmeth_name\u001b[0m\u001b[0;34m)\u001b[0m\u001b[0;34m\u001b[0m\u001b[0;34m\u001b[0m\u001b[0m\n\u001b[0;32m--> 531\u001b[0;31m             \u001b[0mresponse\u001b[0m \u001b[0;34m=\u001b[0m \u001b[0mmeth\u001b[0m\u001b[0;34m(\u001b[0m\u001b[0mreq\u001b[0m\u001b[0;34m,\u001b[0m \u001b[0mresponse\u001b[0m\u001b[0;34m)\u001b[0m\u001b[0;34m\u001b[0m\u001b[0;34m\u001b[0m\u001b[0m\n\u001b[0m\u001b[1;32m    532\u001b[0m \u001b[0;34m\u001b[0m\u001b[0m\n\u001b[1;32m    533\u001b[0m         \u001b[0;32mreturn\u001b[0m \u001b[0mresponse\u001b[0m\u001b[0;34m\u001b[0m\u001b[0;34m\u001b[0m\u001b[0m\n",
      "\u001b[0;32m/miniconda3/lib/python3.7/urllib/request.py\u001b[0m in \u001b[0;36mhttp_response\u001b[0;34m(self, request, response)\u001b[0m\n\u001b[1;32m    639\u001b[0m         \u001b[0;32mif\u001b[0m \u001b[0;32mnot\u001b[0m \u001b[0;34m(\u001b[0m\u001b[0;36m200\u001b[0m \u001b[0;34m<=\u001b[0m \u001b[0mcode\u001b[0m \u001b[0;34m<\u001b[0m \u001b[0;36m300\u001b[0m\u001b[0;34m)\u001b[0m\u001b[0;34m:\u001b[0m\u001b[0;34m\u001b[0m\u001b[0;34m\u001b[0m\u001b[0m\n\u001b[1;32m    640\u001b[0m             response = self.parent.error(\n\u001b[0;32m--> 641\u001b[0;31m                 'http', request, response, code, msg, hdrs)\n\u001b[0m\u001b[1;32m    642\u001b[0m \u001b[0;34m\u001b[0m\u001b[0m\n\u001b[1;32m    643\u001b[0m         \u001b[0;32mreturn\u001b[0m \u001b[0mresponse\u001b[0m\u001b[0;34m\u001b[0m\u001b[0;34m\u001b[0m\u001b[0m\n",
      "\u001b[0;32m/miniconda3/lib/python3.7/urllib/request.py\u001b[0m in \u001b[0;36merror\u001b[0;34m(self, proto, *args)\u001b[0m\n\u001b[1;32m    567\u001b[0m         \u001b[0;32mif\u001b[0m \u001b[0mhttp_err\u001b[0m\u001b[0;34m:\u001b[0m\u001b[0;34m\u001b[0m\u001b[0;34m\u001b[0m\u001b[0m\n\u001b[1;32m    568\u001b[0m             \u001b[0margs\u001b[0m \u001b[0;34m=\u001b[0m \u001b[0;34m(\u001b[0m\u001b[0mdict\u001b[0m\u001b[0;34m,\u001b[0m \u001b[0;34m'default'\u001b[0m\u001b[0;34m,\u001b[0m \u001b[0;34m'http_error_default'\u001b[0m\u001b[0;34m)\u001b[0m \u001b[0;34m+\u001b[0m \u001b[0morig_args\u001b[0m\u001b[0;34m\u001b[0m\u001b[0;34m\u001b[0m\u001b[0m\n\u001b[0;32m--> 569\u001b[0;31m             \u001b[0;32mreturn\u001b[0m \u001b[0mself\u001b[0m\u001b[0;34m.\u001b[0m\u001b[0m_call_chain\u001b[0m\u001b[0;34m(\u001b[0m\u001b[0;34m*\u001b[0m\u001b[0margs\u001b[0m\u001b[0;34m)\u001b[0m\u001b[0;34m\u001b[0m\u001b[0;34m\u001b[0m\u001b[0m\n\u001b[0m\u001b[1;32m    570\u001b[0m \u001b[0;34m\u001b[0m\u001b[0m\n\u001b[1;32m    571\u001b[0m \u001b[0;31m# XXX probably also want an abstract factory that knows when it makes\u001b[0m\u001b[0;34m\u001b[0m\u001b[0;34m\u001b[0m\u001b[0;34m\u001b[0m\u001b[0m\n",
      "\u001b[0;32m/miniconda3/lib/python3.7/urllib/request.py\u001b[0m in \u001b[0;36m_call_chain\u001b[0;34m(self, chain, kind, meth_name, *args)\u001b[0m\n\u001b[1;32m    501\u001b[0m         \u001b[0;32mfor\u001b[0m \u001b[0mhandler\u001b[0m \u001b[0;32min\u001b[0m \u001b[0mhandlers\u001b[0m\u001b[0;34m:\u001b[0m\u001b[0;34m\u001b[0m\u001b[0;34m\u001b[0m\u001b[0m\n\u001b[1;32m    502\u001b[0m             \u001b[0mfunc\u001b[0m \u001b[0;34m=\u001b[0m \u001b[0mgetattr\u001b[0m\u001b[0;34m(\u001b[0m\u001b[0mhandler\u001b[0m\u001b[0;34m,\u001b[0m \u001b[0mmeth_name\u001b[0m\u001b[0;34m)\u001b[0m\u001b[0;34m\u001b[0m\u001b[0;34m\u001b[0m\u001b[0m\n\u001b[0;32m--> 503\u001b[0;31m             \u001b[0mresult\u001b[0m \u001b[0;34m=\u001b[0m \u001b[0mfunc\u001b[0m\u001b[0;34m(\u001b[0m\u001b[0;34m*\u001b[0m\u001b[0margs\u001b[0m\u001b[0;34m)\u001b[0m\u001b[0;34m\u001b[0m\u001b[0;34m\u001b[0m\u001b[0m\n\u001b[0m\u001b[1;32m    504\u001b[0m             \u001b[0;32mif\u001b[0m \u001b[0mresult\u001b[0m \u001b[0;32mis\u001b[0m \u001b[0;32mnot\u001b[0m \u001b[0;32mNone\u001b[0m\u001b[0;34m:\u001b[0m\u001b[0;34m\u001b[0m\u001b[0;34m\u001b[0m\u001b[0m\n\u001b[1;32m    505\u001b[0m                 \u001b[0;32mreturn\u001b[0m \u001b[0mresult\u001b[0m\u001b[0;34m\u001b[0m\u001b[0;34m\u001b[0m\u001b[0m\n",
      "\u001b[0;32m/miniconda3/lib/python3.7/urllib/request.py\u001b[0m in \u001b[0;36mhttp_error_default\u001b[0;34m(self, req, fp, code, msg, hdrs)\u001b[0m\n\u001b[1;32m    647\u001b[0m \u001b[0;32mclass\u001b[0m \u001b[0mHTTPDefaultErrorHandler\u001b[0m\u001b[0;34m(\u001b[0m\u001b[0mBaseHandler\u001b[0m\u001b[0;34m)\u001b[0m\u001b[0;34m:\u001b[0m\u001b[0;34m\u001b[0m\u001b[0;34m\u001b[0m\u001b[0m\n\u001b[1;32m    648\u001b[0m     \u001b[0;32mdef\u001b[0m \u001b[0mhttp_error_default\u001b[0m\u001b[0;34m(\u001b[0m\u001b[0mself\u001b[0m\u001b[0;34m,\u001b[0m \u001b[0mreq\u001b[0m\u001b[0;34m,\u001b[0m \u001b[0mfp\u001b[0m\u001b[0;34m,\u001b[0m \u001b[0mcode\u001b[0m\u001b[0;34m,\u001b[0m \u001b[0mmsg\u001b[0m\u001b[0;34m,\u001b[0m \u001b[0mhdrs\u001b[0m\u001b[0;34m)\u001b[0m\u001b[0;34m:\u001b[0m\u001b[0;34m\u001b[0m\u001b[0;34m\u001b[0m\u001b[0m\n\u001b[0;32m--> 649\u001b[0;31m         \u001b[0;32mraise\u001b[0m \u001b[0mHTTPError\u001b[0m\u001b[0;34m(\u001b[0m\u001b[0mreq\u001b[0m\u001b[0;34m.\u001b[0m\u001b[0mfull_url\u001b[0m\u001b[0;34m,\u001b[0m \u001b[0mcode\u001b[0m\u001b[0;34m,\u001b[0m \u001b[0mmsg\u001b[0m\u001b[0;34m,\u001b[0m \u001b[0mhdrs\u001b[0m\u001b[0;34m,\u001b[0m \u001b[0mfp\u001b[0m\u001b[0;34m)\u001b[0m\u001b[0;34m\u001b[0m\u001b[0;34m\u001b[0m\u001b[0m\n\u001b[0m\u001b[1;32m    650\u001b[0m \u001b[0;34m\u001b[0m\u001b[0m\n\u001b[1;32m    651\u001b[0m \u001b[0;32mclass\u001b[0m \u001b[0mHTTPRedirectHandler\u001b[0m\u001b[0;34m(\u001b[0m\u001b[0mBaseHandler\u001b[0m\u001b[0;34m)\u001b[0m\u001b[0;34m:\u001b[0m\u001b[0;34m\u001b[0m\u001b[0;34m\u001b[0m\u001b[0m\n",
      "\u001b[0;31mHTTPError\u001b[0m: HTTP Error 403: Forbidden"
     ]
    }
   ],
   "source": [
    "# Ejemplo 4: url\n",
    "from IPython.display import HTML\n",
    "my_url = \"https://raw.githubusercontent.com/timqian/chart.xkcd/master/examples/example.html\"\n",
    "my_url = \"https://timqian.com/chart.xkcd/example.html\"\n",
    "HTML(url=my_url)"
   ]
  },
  {
   "cell_type": "markdown",
   "id": "e0032cbc",
   "metadata": {},
   "source": [
    "Más información"
   ]
  },
  {
   "cell_type": "code",
   "execution_count": null,
   "id": "13c729ec",
   "metadata": {},
   "outputs": [],
   "source": [
    "from IPython.display import HTML\n",
    "HTML?"
   ]
  },
  {
   "cell_type": "code",
   "execution_count": null,
   "id": "49e2fc84",
   "metadata": {},
   "outputs": [],
   "source": [
    "from IPython.display import HTML\n",
    "print(\"Methods:\")\n",
    "print(sorted([f for f in dir(HTML) if not f.startswith('_')]))"
   ]
  },
  {
   "cell_type": "markdown",
   "id": "58f26663",
   "metadata": {},
   "source": [
    "### 2.12 Javascript\n",
    "\n",
    "```python\n",
    "Javascript(data=None, \n",
    "           url=None, \n",
    "           filename=None, \n",
    "           lib=None, \n",
    "           css=None)\n",
    "```\n",
    "\n",
    "Carga el código javascript en la página. En el notebook, el elemento conteneder será `element`,\n",
    "y jQuery estará disponible. Contenido agregado a `element` serán visibles en la área de output.\n",
    "\n",
    "Métodos o atributos del objeto creado:\n",
    "* **metadata**: Atributo string con la metadata con la que fue creado el objeto.\n",
    "* **reaload**: Método para recargar el contenido del objeto, si fue creado desde url o archivo."
   ]
  },
  {
   "cell_type": "code",
   "execution_count": 43,
   "id": "0e3bbec5",
   "metadata": {},
   "outputs": [
    {
     "data": {
      "application/javascript": [
       "alert(\"¡¡Tenemos javascript!!\");"
      ],
      "text/plain": [
       "<IPython.core.display.Javascript object>"
      ]
     },
     "execution_count": 43,
     "metadata": {},
     "output_type": "execute_result"
    }
   ],
   "source": [
    "# Ejemplo 1\n",
    "from IPython.display import Javascript\n",
    "Javascript('alert(\"¡¡Tenemos javascript!!\");')"
   ]
  },
  {
   "cell_type": "code",
   "execution_count": 45,
   "id": "a470eb27",
   "metadata": {},
   "outputs": [
    {
     "data": {
      "application/javascript": [
       "\n",
       "function button_action(value){\n",
       "  alert('La variable tiene valor '+ value);\n",
       "};\n",
       "\n",
       "element.append(`<div> \n",
       "Variable: \n",
       "<input type='text' id='my_input_form' value='42'> \n",
       "<button onclick='button_action(document.getElementById(\"my_input_form\").value)'>Click</button>\n",
       "</div>`);\n"
      ],
      "text/plain": [
       "<IPython.core.display.Javascript object>"
      ]
     },
     "execution_count": 45,
     "metadata": {},
     "output_type": "execute_result"
    }
   ],
   "source": [
    "# Ejemplo 2\n",
    "from IPython.display import Javascript\n",
    "my_js = \"\"\"\n",
    "function button_action(value){\n",
    "  alert('La variable tiene valor '+ value);\n",
    "};\n",
    "\n",
    "element.append(`<div> \n",
    "Variable: \n",
    "<input type='text' id='my_input_form' value='42'> \n",
    "<button onclick='button_action(document.getElementById(\"my_input_form\").value)'>Click</button>\n",
    "</div>`);\n",
    "\"\"\"\n",
    "Javascript(my_js)"
   ]
  },
  {
   "cell_type": "code",
   "execution_count": 47,
   "id": "e4b8e9bd",
   "metadata": {},
   "outputs": [
    {
     "data": {
      "application/javascript": [
       "new Promise(function(resolve, reject) {\n",
       "\tvar script = document.createElement(\"script\");\n",
       "\tscript.onload = resolve;\n",
       "\tscript.onerror = reject;\n",
       "\tscript.src = \"https://cdn.jsdelivr.net/npm/chart.xkcd@1/dist/chart.xkcd.min.js\";\n",
       "\tdocument.head.appendChild(script);\n",
       "}).then(() => {\n",
       "\n",
       "  const svg = document.querySelector('.line-chart')\n",
       "\n",
       "  new chartXkcd.Line(svg, {\n",
       "    title: 'Monthly income of an indie developer',\n",
       "    xLabel: 'Month',\n",
       "    yLabel: '$ Dollars',\n",
       "    data: {\n",
       "      labels:['1', '2', '3', '4', '5', '6','7', '8', '9', '10'],\n",
       "      datasets: [{\n",
       "        label: 'Plan',\n",
       "        data: [30, 70, 200, 300, 500 ,800, 1500, 2900, 5000, 8000],\n",
       "      }, {\n",
       "        label: 'Reality',\n",
       "        data: [0, 1, 30, 70, 80, 100, 50, 80, 40, 150],\n",
       "      }]\n",
       "    },\n",
       "    options: {}\n",
       "  });\n",
       "  \n",
       "  element.append(`<svg class=\"line-chart\"></svg>`)\n",
       "\n",
       "});"
      ],
      "text/plain": [
       "<IPython.core.display.Javascript object>"
      ]
     },
     "execution_count": 47,
     "metadata": {},
     "output_type": "execute_result"
    }
   ],
   "source": [
    "# Ejemplo 3: Una visualización con xkcd-chart\n",
    "# https://github.com/timqian/chart.xkcd\n",
    "from IPython.display import Javascript\n",
    "my_js = \"\"\"\n",
    "  const svg = document.querySelector('.line-chart')\n",
    "\n",
    "  new chartXkcd.Line(svg, {\n",
    "    title: 'Monthly income of an indie developer',\n",
    "    xLabel: 'Month',\n",
    "    yLabel: '$ Dollars',\n",
    "    data: {\n",
    "      labels:['1', '2', '3', '4', '5', '6','7', '8', '9', '10'],\n",
    "      datasets: [{\n",
    "        label: 'Plan',\n",
    "        data: [30, 70, 200, 300, 500 ,800, 1500, 2900, 5000, 8000],\n",
    "      }, {\n",
    "        label: 'Reality',\n",
    "        data: [0, 1, 30, 70, 80, 100, 50, 80, 40, 150],\n",
    "      }]\n",
    "    },\n",
    "    options: {}\n",
    "  });\n",
    "  \n",
    "  element.append(`<svg class=\"line-chart\"></svg>`)\n",
    "\"\"\"\n",
    "my_lib = \"https://cdn.jsdelivr.net/npm/chart.xkcd@1/dist/chart.xkcd.min.js\"\n",
    "Javascript(data=my_js, lib=my_lib)"
   ]
  },
  {
   "cell_type": "code",
   "execution_count": 49,
   "id": "ca9ce7dc",
   "metadata": {},
   "outputs": [
    {
     "data": {
      "application/javascript": [
       "// import chartXkcd from 'chart.xkcd';\n",
       "// import chartXkcd from '../../dist/chart.xkcd';\n",
       "import chartXkcd from '../src';\n",
       "\n",
       "const svg = document.querySelector('.bar-chart');\n",
       "\n",
       "new chartXkcd.Bar(svg, {\n",
       "  title: 'Github stars VS patron number',\n",
       "  xLabel: 'Month',\n",
       "  yLabel: 'Count',\n",
       "  data: {\n",
       "    labels: ['github stars', 'patrons'],\n",
       "    datasets: [{\n",
       "      data: [100, 2],\n",
       "    }],\n",
       "  },\n",
       "  // options: {\n",
       "  //   yTickCount: 2,\n",
       "  //   // unxkcdify: true,\n",
       "  //   // strokeColor: 'white',\n",
       "  //   // backgroundColor: 'black',\n",
       "  // },\n",
       "});\n",
       "\n",
       "const svgStackedBar = document.querySelector('.stacked-bar-chart');\n",
       "new chartXkcd.StackedBar(svgStackedBar, {\n",
       "  title: 'Issues and PR Submissions',\n",
       "  xLabel: 'Month',\n",
       "  yLabel: 'Count',\n",
       "  data: {\n",
       "    labels: ['Jan', 'Feb', 'Mar', 'April', 'May'],\n",
       "    datasets: [{\n",
       "      label: 'Issues',\n",
       "      data: [12, 19, 11, 29, 17],\n",
       "    }, {\n",
       "      label: 'PRs',\n",
       "      data: [3, 5, 2, 4, 1],\n",
       "    }, {\n",
       "      label: 'Merges',\n",
       "      data: [2, 3, 0, 1, 1],\n",
       "    }],\n",
       "  },\n",
       "  // options: {\n",
       "  // showLegend: true,\n",
       "  //   yTickCount: 2,\n",
       "  //   // unxkcdify: true,\n",
       "  //   // strokeColor: 'white',\n",
       "  //   // backgroundColor: 'black',\n",
       "  // },\n",
       "});\n",
       "\n",
       "const svgPie = document.querySelector('.pie-chart');\n",
       "new chartXkcd.Pie(svgPie, {\n",
       "  title: 'What Tim is made of',\n",
       "  data: {\n",
       "    labels: ['a', 'b', 'e', 'f', 'g'],\n",
       "    datasets: [{\n",
       "      data: [500, 200, 80, 90, 100],\n",
       "    }],\n",
       "  },\n",
       "  options: {\n",
       "    innerRadius: 0.6,\n",
       "    legendPosition: chartXkcd.config.positionType.upRight,\n",
       "    // showLegend: true,\n",
       "    // unxkcdify: true,\n",
       "    // strokeColor: 'white',\n",
       "    // backgroundColor: 'black',\n",
       "  },\n",
       "});\n",
       "\n",
       "const svgLine = document.querySelector('.line-chart');\n",
       "new chartXkcd.Line(svgLine, {\n",
       "  title: 'Monthly income of an indie developer',\n",
       "  xLabel: 'Month',\n",
       "  yLabel: '$ Dollars',\n",
       "  data: {\n",
       "    labels: ['1', '2', '3', '4', '5', '6', '7', '8', '9', '10'],\n",
       "    datasets: [{\n",
       "      label: 'Plan',\n",
       "      data: [30, 70, 200, 300, 500, 800, 1500, 2900, 5000, 8000],\n",
       "    }, {\n",
       "      label: 'Reality',\n",
       "      data: [0, 1, 30, 70, 80, 100, 50, 80, 40, 150],\n",
       "    }],\n",
       "  },\n",
       "  options: {\n",
       "    // unxkcdify: true,\n",
       "    // strokeColor: 'black',\n",
       "    // backgroundColor: 'white',\n",
       "  },\n",
       "});\n",
       "\n",
       "const svgXY = document.querySelector('.xyline-chart');\n",
       "new chartXkcd.XY(svgXY, {\n",
       "  title: 'stars',\n",
       "  xLabel: 'wo',\n",
       "  yLabel: 'Stars count',\n",
       "  data: {\n",
       "    datasets: [{\n",
       "      label: 'timqian',\n",
       "      data: [{ x: 3, y: 10 }, { x: 4, y: 122 }, { x: 10, y: 180 }, { x: 1, y: 2 }, { x: 2, y: 4 }],\n",
       "    }, {\n",
       "      label: 'wewean',\n",
       "      data: [{ x: 3, y: 122 }, { x: 4, y: 212 }, { x: -3, y: 100 }, { x: 1, y: 1 }, { x: 1.5, y: 12 }],\n",
       "    }],\n",
       "  },\n",
       "  options: {\n",
       "    xTickCount: 5,\n",
       "    yTickCount: 5,\n",
       "    legendPosition: chartXkcd.config.positionType.downRight,\n",
       "    showLine: false,\n",
       "    // showLegend: true,\n",
       "    // unxkcdify: true,\n",
       "    // strokeColor: 'blue',\n",
       "    // backgroundColor: 'black',\n",
       "\n",
       "  },\n",
       "});\n",
       "\n",
       "const svgXY2 = document.querySelector('.xyline-chart2');\n",
       "new chartXkcd.XY(svgXY2, {\n",
       "  title: 'Github star history',\n",
       "  xLabel: 'Month',\n",
       "  yLabel: 'Stars abc',\n",
       "  data: {\n",
       "    datasets: [{\n",
       "      label: 'timqian/chart.xkcd',\n",
       "      data: [{ x: '2015-03-01', y: 0 }, { x: '2015-04-01', y: 2 }, { x: '2015-05-01', y: 4 }, { x: '2015-06-01', y: 10 }, { x: '2015-07-01', y: 122 }],\n",
       "    }, {\n",
       "      label: 'timqian/star-history',\n",
       "      data: [{ x: '2015-01-01', y: 0 }, { x: '2015-03-01', y: 1 }, { x: '2015-04-01', y: 12 }, { x: '2015-05-01', y: 122 }, { x: '2015-06-01', y: 212 }],\n",
       "    }],\n",
       "  },\n",
       "  options: {\n",
       "    xTickCount: 3,\n",
       "    yTickCount: 4,\n",
       "    legendPosition: chartXkcd.config.positionType.upLeft,\n",
       "    showLine: true,\n",
       "    timeFormat: 'MM/DD/YYYY',\n",
       "    dotSize: 0.5,\n",
       "    // unxkcdify: true,\n",
       "    // strokeColor: 'white',\n",
       "    // backgroundColor: 'black',\n",
       "  },\n",
       "});\n",
       "\n",
       "const svgRadar = document.querySelector('.radar-chart');\n",
       "new chartXkcd.Radar(svgRadar, {\n",
       "  title: 'Radar',\n",
       "  data: {\n",
       "    labels: ['c', 'h', 'a', 'r', 't'],\n",
       "    datasets: [{\n",
       "      label: 'ccharrrt',\n",
       "      data: [2, 1, 1, 3, 1],\n",
       "    }, {\n",
       "      label: 'chhaart',\n",
       "      data: [1, 2, 2, 1, 1],\n",
       "    }],\n",
       "  },\n",
       "  options: {\n",
       "    showLegend: true,\n",
       "    dotSize: 0.8,\n",
       "    showLabels: true,\n",
       "    legendPosition: chartXkcd.config.positionType.upRight,\n",
       "    // unxkcdify: true,\n",
       "    // strokeColor: 'white',\n",
       "    // backgroundColor: 'black',\n",
       "  },\n",
       "});\n",
       "\n",
       "const svgLineCus = document.querySelector('.line-chart-cus');\n",
       "new chartXkcd.Line(svgLineCus, {\n",
       "  title: 'Customize Font & colors (定制外观)',\n",
       "  xLabel: 'this is x label',\n",
       "  yLabel: 'y label',\n",
       "  data: {\n",
       "    labels: ['1', '2', '3', '4', '5', '6', '7', '8', '9', '10'],\n",
       "    datasets: [{\n",
       "      label: 'font',\n",
       "      data: [30, 70, 200, 300, 500, 800, 100, 290, 500, 300],\n",
       "    }, {\n",
       "      label: 'color',\n",
       "      data: [0, 1, 30, 70, 80, 100, 500, 80, 40, 250],\n",
       "    }],\n",
       "  },\n",
       "  options: {\n",
       "    fontFamily: 'ZCOOL KuaiLe',\n",
       "    dataColors: ['black', '#aaa'],\n",
       "    legendPosition: chartXkcd.config.positionType.upRight,\n",
       "    // strokeColor: 'white',\n",
       "    // backgroundColor: 'black',\n",
       "  },\n",
       "});\n",
       "\n",
       "\n",
       "const svgLineUnxkcdify = document.querySelector('.line-chart-unxkcdify');\n",
       "new chartXkcd.Line(svgLineUnxkcdify, {\n",
       "  title: 'Unxkcdify',\n",
       "  xLabel: 'this is x label',\n",
       "  yLabel: 'y label',\n",
       "  data: {\n",
       "    labels: ['1', '2', '3', '4', '5', '6', '7', '8', '9', '10'],\n",
       "    datasets: [{\n",
       "      label: 'font',\n",
       "      data: [30, 70, 200, 300, 500, 800, 100, 290, 500, 300],\n",
       "    }, {\n",
       "      label: 'color',\n",
       "      data: [0, 1, 30, 70, 80, 100, 500, 80, 40, 250],\n",
       "    }],\n",
       "  },\n",
       "  options: {\n",
       "    unxkcdify: true,\n",
       "    // strokeColor: 'white',\n",
       "    // backgroundColor: 'black',\n",
       "  },\n",
       "});\n",
       "\n",
       "const svgDark = document.querySelector('.line-chart-dark');\n",
       "new chartXkcd.XY(svgDark, {\n",
       "  title: 'stars',\n",
       "  xLabel: 'wo',\n",
       "  yLabel: 'Stars count',\n",
       "  data: {\n",
       "    datasets: [{\n",
       "      label: 'timqian',\n",
       "      data: [{ x: 3, y: 10 }, { x: 4, y: 122 }, { x: 10, y: 180 }, { x: 1, y: 2 }, { x: 2, y: 4 }],\n",
       "    }, {\n",
       "      label: 'wewean',\n",
       "      data: [{ x: 3, y: 122 }, { x: 4, y: 212 }, { x: -3, y: 100 }, { x: 1, y: 1 }, { x: 1.5, y: 12 }],\n",
       "    }],\n",
       "  },\n",
       "  options: {\n",
       "    xTickCount: 5,\n",
       "    yTickCount: 5,\n",
       "    legendPosition: chartXkcd.config.positionType.downRight,\n",
       "    showLine: false,\n",
       "    // unxkcdify: true,\n",
       "    strokeColor: 'white',\n",
       "    backgroundColor: 'black',\n",
       "\n",
       "  },\n",
       "});\n"
      ],
      "text/plain": [
       "<IPython.core.display.Javascript object>"
      ]
     },
     "execution_count": 49,
     "metadata": {},
     "output_type": "execute_result"
    }
   ],
   "source": [
    "# Link: https://github.com/timqian/chart.xkcd/blob/master/examples/index.js\n",
    "my_url = \"https://raw.githubusercontent.com/timqian/chart.xkcd/master/examples/index.js\"\n",
    "my_lib = \"https://cdn.jsdelivr.net/npm/chart.xkcd@1/dist/chart.xkcd.min.js\"\n",
    "Javascript(url=my_url, lib=my_lib)"
   ]
  },
  {
   "cell_type": "markdown",
   "id": "668f30b1",
   "metadata": {},
   "source": [
    "Más información"
   ]
  },
  {
   "cell_type": "code",
   "execution_count": 7,
   "id": "4f3fa7d1",
   "metadata": {},
   "outputs": [],
   "source": [
    "from IPython.display import Javascript\n",
    "Javascript?"
   ]
  },
  {
   "cell_type": "code",
   "execution_count": null,
   "id": "86c92986",
   "metadata": {},
   "outputs": [],
   "source": [
    "from IPython.display import Javascript\n",
    "print(\"Methods:\")\n",
    "print(sorted([f for f in dir(Javascript) if not f.startswith('_')]))"
   ]
  },
  {
   "cell_type": "markdown",
   "id": "3b347b1c",
   "metadata": {},
   "source": [
    "## 3 Imágenes"
   ]
  },
  {
   "cell_type": "markdown",
   "id": "239fd003",
   "metadata": {},
   "source": [
    "## 4 Video"
   ]
  },
  {
   "cell_type": "markdown",
   "id": "38a0327b",
   "metadata": {},
   "source": [
    "## 5 Audio"
   ]
  },
  {
   "cell_type": "markdown",
   "id": "47307c0a",
   "metadata": {},
   "source": [
    "### 5.1 Audio\n",
    "\n",
    "```python\n",
    "Audio(data=None, \n",
    "    filename=None, \n",
    "    url=None, \n",
    "    embed=None, \n",
    "    rate=None, \n",
    "    autoplay=False, \n",
    "    normalize=True,\n",
    "    element_id=None\n",
    ")\n",
    "```\n",
    "\n",
    "Métodos del objeto (creado):\n",
    "* **autoplay_attr**\n",
    "* **element_id_attr**\n",
    "* **metadata**\n",
    "* **reload**\n",
    "* **src_attr**\n",
    "OBS: Codigo original tiene muchos errores!!!"
   ]
  },
  {
   "cell_type": "code",
   "execution_count": null,
   "id": "e6cf4942",
   "metadata": {},
   "outputs": [],
   "source": [
    "# Ejemplo 1: Generando los datos\n",
    "from IPython.display import Audio\n",
    "import numpy as np\n",
    "\n",
    "framerate = 44100\n",
    "t = np.linspace(0,5,framerate*5)\n",
    "data = np.sin(2*np.pi*220*t) + np.sin(2*np.pi*224*t)\n",
    "Audio(data, rate=framerate)"
   ]
  },
  {
   "cell_type": "code",
   "execution_count": null,
   "id": "d906ef0a",
   "metadata": {},
   "outputs": [],
   "source": [
    "# Ejemplo 2: \n",
    "# Can also do stereo or more channels\n",
    "dataleft = np.sin(2*np.pi*220*t)\n",
    "dataright = np.sin(2*np.pi*224*t)\n",
    "Audio([dataleft, dataright],rate=framerate)"
   ]
  },
  {
   "cell_type": "code",
   "execution_count": null,
   "id": "ec930d2d",
   "metadata": {},
   "outputs": [],
   "source": [
    "# Ejemplo 3: url\n",
    "Audio(\"https://upload.wikimedia.org/wikipedia/commons/transcoded/1/13/EN-Monty_Python-GT.ogg/EN-Monty_Python-GT.ogg.mp3\",\n",
    "      autoplay=True,\n",
    "     )"
   ]
  },
  {
   "cell_type": "code",
   "execution_count": null,
   "id": "7d70aaa7",
   "metadata": {},
   "outputs": [],
   "source": [
    "#Audio('/path/to/sound.wav')  # From file\n",
    "#Audio(filename='/path/to/sound.ogg')\n",
    "\n",
    "#Audio(b'RAW_WAV_DATA..')  # From bytes, Audio(data=b'RAW_WAV_DATA..')"
   ]
  },
  {
   "cell_type": "markdown",
   "id": "719dbdf2",
   "metadata": {},
   "source": [
    "Más información:"
   ]
  },
  {
   "cell_type": "code",
   "execution_count": null,
   "id": "898b24e1",
   "metadata": {},
   "outputs": [],
   "source": [
    "# Aprender más sobre las formas de crear objetos Audio\n",
    "Audio?"
   ]
  },
  {
   "cell_type": "code",
   "execution_count": null,
   "id": "c79ded0c",
   "metadata": {},
   "outputs": [],
   "source": [
    "from IPython.display import Audio\n",
    "print(\"Methods:\")\n",
    "print(sorted([f for f in dir(Audio) if not f.startswith('_')]))"
   ]
  },
  {
   "cell_type": "markdown",
   "id": "a21eca12",
   "metadata": {},
   "source": [
    "## 6 Código o Texto"
   ]
  },
  {
   "cell_type": "markdown",
   "id": "e7c3ab7d",
   "metadata": {},
   "source": [
    "## 7 Otros"
   ]
  },
  {
   "cell_type": "markdown",
   "id": "7c59cb25",
   "metadata": {},
   "source": [
    "### 2.2 Code\n",
    "\n",
    "```python\n",
    "Code(data=None, \n",
    "     url=None, \n",
    "     filename=None, \n",
    "     language=None)\n",
    "```\n",
    " \n",
    "* Finalidad: Sirve para mostrar código de python (coloreado). \n",
    "* ¿Cuando sería util? Tienes un archivo y quieres mostrarlo en un notebook o rise, y en lugar de usar print usas esto para que tengo colores bonitos."
   ]
  },
  {
   "cell_type": "code",
   "execution_count": null,
   "id": "90bfa3fa",
   "metadata": {},
   "outputs": [],
   "source": [
    "# Ejemplo 1: código en python\n",
    "from IPython.display import Code\n",
    "my_code = \"\"\"print(\" \".join([\"hola\",\"mundo\"]))\n",
    "a = 3\n",
    "\"\"\"\n",
    "Code(my_code, language=\"python\")"
   ]
  },
  {
   "cell_type": "code",
   "execution_count": null,
   "id": "8689403c",
   "metadata": {},
   "outputs": [],
   "source": [
    "# Ejemplo 2: código javascript\n",
    "from IPython.display import Code\n",
    "my_code = \"\"\"console.log(\"hola\" + \" \" + \"mundo\")\n",
    "var a = 3\n",
    "\"\"\"\n",
    "Code(my_code, language=\"javascript\")"
   ]
  },
  {
   "cell_type": "code",
   "execution_count": null,
   "id": "dd150ad8",
   "metadata": {},
   "outputs": [],
   "source": [
    "# Ejemplo 3: archivo\n"
   ]
  },
  {
   "cell_type": "code",
   "execution_count": null,
   "id": "85c9f13a",
   "metadata": {},
   "outputs": [],
   "source": [
    "# Ejemplo 4: url\n"
   ]
  },
  {
   "cell_type": "markdown",
   "id": "940530b0",
   "metadata": {},
   "source": [
    "Más información"
   ]
  },
  {
   "cell_type": "code",
   "execution_count": null,
   "id": "ada0237e",
   "metadata": {},
   "outputs": [],
   "source": [
    "from IPython.display import Code\n",
    "Code?"
   ]
  },
  {
   "cell_type": "code",
   "execution_count": null,
   "id": "29d2c985",
   "metadata": {},
   "outputs": [],
   "source": [
    "from IPython.display import Code\n",
    "print(\"Methods:\")\n",
    "print(sorted([f for f in dir(Code) if not f.startswith('_')]))"
   ]
  },
  {
   "cell_type": "markdown",
   "id": "f93ce9f5",
   "metadata": {},
   "source": [
    "### 2.3 Display Handle\n",
    "\n",
    "```python\n",
    "class IPython.display.DisplayHandle(display_id=None)\n",
    "```\n",
    "\n",
    "*  Funcionalidad: Ni idea... ¿para actualizar un display??\n",
    "* Ejemplo: ??"
   ]
  },
  {
   "cell_type": "code",
   "execution_count": null,
   "id": "81896dd8",
   "metadata": {},
   "outputs": [],
   "source": [
    "from IPython.display import DisplayHandle\n",
    "DisplayHandle(1) # ?"
   ]
  },
  {
   "cell_type": "markdown",
   "id": "7d5f18f9",
   "metadata": {},
   "source": [
    "Más información"
   ]
  },
  {
   "cell_type": "code",
   "execution_count": null,
   "id": "79f9b727",
   "metadata": {},
   "outputs": [],
   "source": [
    "from IPython.display import DisplayHandle\n",
    "DisplayHandle?"
   ]
  },
  {
   "cell_type": "code",
   "execution_count": null,
   "id": "24ff7321",
   "metadata": {},
   "outputs": [],
   "source": [
    "from IPython.display import DisplayHandle\n",
    "print(\"Methods:\")\n",
    "print(sorted([f for f in dir(DisplayHandle) if not f.startswith('_')]))"
   ]
  },
  {
   "cell_type": "markdown",
   "id": "1971556e",
   "metadata": {},
   "source": [
    "### 2.4 Display Object\n",
    "..\n",
    ".."
   ]
  },
  {
   "cell_type": "code",
   "execution_count": null,
   "id": "d81273d9",
   "metadata": {},
   "outputs": [],
   "source": []
  },
  {
   "cell_type": "markdown",
   "id": "30f59a31",
   "metadata": {},
   "source": [
    "Más información"
   ]
  },
  {
   "cell_type": "code",
   "execution_count": null,
   "id": "113ec717",
   "metadata": {},
   "outputs": [],
   "source": [
    "from IPython.display import DisplayObject\n",
    "DisplayObject?"
   ]
  },
  {
   "cell_type": "code",
   "execution_count": null,
   "id": "c30b2cc9",
   "metadata": {},
   "outputs": [],
   "source": [
    "from IPython.display import DisplayObject\n",
    "print(\"Methods:\")\n",
    "print(sorted([f for f in dir(DisplayObject) if not f.startswith('_')]))"
   ]
  },
  {
   "cell_type": "markdown",
   "id": "d719f620",
   "metadata": {},
   "source": [
    "### 2.5 FileLink\n",
    "```python\n",
    "class IPython.display.FileLink(path, \n",
    "                               url_prefix='', \n",
    "                               result_html_prefix='', \n",
    "                               result_html_suffix='<br>')\n",
    "```\n",
    "\n",
    "* **Finalidad**: Embeber un archivo local que pueda ser clickeado, basado en una ruta (path).\n",
    "* **Ejemplo**: Cuando tu código hace referencia a un archivo de datos o README, y quieres que pueda abrirse fácilmente. O cuando generas un output, y quieres que un usuario lo mire.\n"
   ]
  },
  {
   "cell_type": "code",
   "execution_count": null,
   "id": "6d906faf",
   "metadata": {},
   "outputs": [],
   "source": [
    "# Ejemplo 1\n",
    "from IPython.display import FileLink\n",
    "FileLink(\"my/data.txt\")"
   ]
  },
  {
   "cell_type": "code",
   "execution_count": null,
   "id": "d9bcecca",
   "metadata": {},
   "outputs": [],
   "source": [
    "# Ejemplo 2\n",
    "from IPython.display import FileLink\n",
    "FileLink(\"my/data.txt\", url_prefix=\"url_prefix\", result_html_prefix='html_prefix', result_html_suffix='html_suffix')"
   ]
  },
  {
   "cell_type": "markdown",
   "id": "b1fe494e",
   "metadata": {},
   "source": [
    "Más información"
   ]
  },
  {
   "cell_type": "code",
   "execution_count": null,
   "id": "0e7b9bef",
   "metadata": {},
   "outputs": [],
   "source": [
    "from IPython.display import FileLink\n",
    "FileLink?"
   ]
  },
  {
   "cell_type": "code",
   "execution_count": null,
   "id": "0825bd8e",
   "metadata": {},
   "outputs": [],
   "source": [
    "from IPython.display import FileLink\n",
    "print(\"Methods:\")\n",
    "print(sorted([f for f in dir(FileLink) if not f.startswith('_')]))"
   ]
  },
  {
   "cell_type": "markdown",
   "id": "33334916",
   "metadata": {},
   "source": [
    "### 2.6 FileLinks\n",
    "\n",
    "```python\n",
    "class IPython.display.FileLinks(path, \n",
    "                                url_prefix='', \n",
    "                                included_suffixes=None, \n",
    "                                result_html_prefix='', \n",
    "                                result_html_suffix='<br>', \n",
    "                                notebook_display_formatter=None, \n",
    "                                terminal_display_formatter=None, \n",
    "                                recursive=True)\n",
    "```\n",
    "\n",
    "* **Finalidad**: Embeber un archivo local que pueda ser clickeado, basado en una ruta (path).\n",
    "* **Ejemplo**: Cuando tu código hace referencia a un archivo de datos o README, y quieres que pueda abrirse fácilmente. O cuando generas un output, y quieres que un usuario lo mire.\n"
   ]
  },
  {
   "cell_type": "code",
   "execution_count": null,
   "id": "ae44fd45",
   "metadata": {},
   "outputs": [],
   "source": [
    "from IPython.display import FileLinks\n",
    "FileLinks(\"my\")"
   ]
  },
  {
   "cell_type": "markdown",
   "id": "58b0a735",
   "metadata": {},
   "source": [
    "Más información"
   ]
  },
  {
   "cell_type": "code",
   "execution_count": null,
   "id": "2d54b7b9",
   "metadata": {},
   "outputs": [],
   "source": [
    "from IPython.display import FileLinks\n",
    "FileLinks?"
   ]
  },
  {
   "cell_type": "code",
   "execution_count": null,
   "id": "eb30934b",
   "metadata": {},
   "outputs": [],
   "source": [
    "from IPython.display import FileLinks\n",
    "print(\"Methods:\")\n",
    "print(sorted([f for f in dir(FileLinks) if not f.startswith('_')]))"
   ]
  },
  {
   "cell_type": "markdown",
   "id": "0efbbadd",
   "metadata": {},
   "source": [
    "### 2.7 GeoJSON\n",
    "\n",
    "\n",
    "```python\n",
    "GeoJSON(data : dict or list VegaLite data. Not an already-serialized JSON string.\n",
    "        url_template : string - Leaflet TileLayer URL template\n",
    "        layer_options : dict - Leaflet TileLayer options: http://leafletjs.com/reference.html#tilelayer-options\n",
    "        url : unicode - A URL to download the data from.\n",
    "        filename : unicode - Path to a local file to load the data from.\n",
    "        metadata: dict - Specify extra metadata to attach to the json display object.\n",
    "       )\n",
    "```\n",
    "\n",
    "Métodos o atributos del objeto creado:\n",
    "* **data**:\n",
    "* **metadata**: \n",
    "* **reaload**: \n",
    "\n",
    "\n",
    "Mostrar un json geo\n",
    "\n",
    "...\n",
    "no me funciona??"
   ]
  },
  {
   "cell_type": "code",
   "execution_count": null,
   "id": "f99b11aa",
   "metadata": {},
   "outputs": [],
   "source": [
    "from IPython.display import GeoJSON\n",
    "\n",
    "GeoJSON(data={\n",
    "         \"type\": \"Feature\",\n",
    "         \"geometry\": {\n",
    "             \"type\": \"Point\",\n",
    "             \"coordinates\": [-81.327, 296.038]\n",
    "            }\n",
    " },\n",
    " url_template=\"http://s3-eu-west-1.amazonaws.com/whereonmars.cartodb.net/{basemap_id}/{z}/{x}/{y}.png\",\n",
    " layer_options={\n",
    "     \"basemap_id\": \"celestia_mars-shaded-16k_global\",\n",
    "     \"attribution\" : \"Celestia/praesepe\",\n",
    "     \"minZoom\" : 0,\n",
    "     \"maxZoom\" : 18,\n",
    " })"
   ]
  },
  {
   "cell_type": "markdown",
   "id": "f8d7a4fe",
   "metadata": {},
   "source": [
    "Más información:"
   ]
  },
  {
   "cell_type": "code",
   "execution_count": null,
   "id": "97dc8c8e",
   "metadata": {},
   "outputs": [],
   "source": [
    "from IPython.display import GeoJSON\n",
    "GeoJSON?"
   ]
  },
  {
   "cell_type": "code",
   "execution_count": null,
   "id": "afca5b2b",
   "metadata": {},
   "outputs": [],
   "source": [
    "from IPython.display import GeoJSON\n",
    "print(\"Methods:\")\n",
    "print(sorted([f for f in dir(GeoJSON) if not f.startswith('_')]))"
   ]
  },
  {
   "cell_type": "markdown",
   "id": "2fc3538d",
   "metadata": {},
   "source": [
    "### 2.10 Image\n",
    "\n",
    "```python\n",
    "Image(data=None,\n",
    "      url=None,\n",
    "      filename=None,\n",
    "      format=None,\n",
    "      embed=None,\n",
    "      width=None,\n",
    "      height=None,\n",
    "      retina=False,\n",
    "      unconfined=False,\n",
    "      metadata=None,\n",
    ")\n",
    "```\n",
    "\n",
    "Métodos o atributos del objeto creado:\n",
    "* **metadata**: Atributo string con la metadata con la que fue creado el objeto.\n",
    "* **reaload**: Método para recargar el contenido del objeto, si fue creado desde url o archivo."
   ]
  },
  {
   "cell_type": "code",
   "execution_count": null,
   "id": "98440839",
   "metadata": {},
   "outputs": [],
   "source": [
    "from IPython.display import Image\n",
    "Image(filename=\"images/Python.png\", width=100)"
   ]
  },
  {
   "cell_type": "code",
   "execution_count": null,
   "id": "8b248680",
   "metadata": {},
   "outputs": [],
   "source": [
    "from IPython.display import Image\n",
    "Image(filename=\"images/Python.jpg\", width=150)"
   ]
  },
  {
   "cell_type": "code",
   "execution_count": null,
   "id": "a26ea4ba",
   "metadata": {},
   "outputs": [],
   "source": [
    "from IPython.display import Image\n",
    "Image(filename=\"images/Python.gif\", width=100)"
   ]
  },
  {
   "cell_type": "code",
   "execution_count": null,
   "id": "d00b4103",
   "metadata": {},
   "outputs": [],
   "source": []
  },
  {
   "cell_type": "markdown",
   "id": "8fcfcb94",
   "metadata": {},
   "source": [
    "Más información"
   ]
  },
  {
   "cell_type": "code",
   "execution_count": null,
   "id": "f19d23d6",
   "metadata": {},
   "outputs": [],
   "source": [
    "from IPython.display import Image\n",
    "Image?"
   ]
  },
  {
   "cell_type": "code",
   "execution_count": null,
   "id": "4e15a87a",
   "metadata": {},
   "outputs": [],
   "source": [
    "from IPython.display import Image\n",
    "print(\"Methods:\")\n",
    "print(sorted([f for f in dir(Image) if not f.startswith('_')]))"
   ]
  },
  {
   "cell_type": "markdown",
   "id": "cd495bbe",
   "metadata": {},
   "source": [
    "### 2.11 JSON\n",
    "\n",
    "```python\n",
    "JSON(\n",
    "    data=None,\n",
    "    url=None,\n",
    "    filename=None,\n",
    "    expanded=False,\n",
    "    metadata=None,\n",
    "    root='root',\n",
    "    **kwargs,\n",
    ")\n",
    "```\n"
   ]
  },
  {
   "cell_type": "code",
   "execution_count": null,
   "id": "d58429e8",
   "metadata": {},
   "outputs": [],
   "source": [
    "from IPython.display import JSON\n",
    "JSON({\"name\":\"John\", \"age\":31, \"city\":\"New York\"})"
   ]
  },
  {
   "cell_type": "markdown",
   "id": "2c5e9de7",
   "metadata": {},
   "source": [
    "Más información"
   ]
  },
  {
   "cell_type": "code",
   "execution_count": null,
   "id": "856df8e7",
   "metadata": {},
   "outputs": [],
   "source": [
    "from IPython.display import JSON\n",
    "JSON?"
   ]
  },
  {
   "cell_type": "code",
   "execution_count": null,
   "id": "2cdf63be",
   "metadata": {},
   "outputs": [],
   "source": [
    "from IPython.display import JSON\n",
    "print(\"Methods:\")\n",
    "print(sorted([f for f in dir(JSON) if not f.startswith('_')]))"
   ]
  },
  {
   "cell_type": "markdown",
   "id": "68d3781a",
   "metadata": {},
   "source": [
    "### 2.13 Latex\n",
    "\n",
    "```python\n",
    "Latex(data=None, \n",
    "      url=None,\n",
    "      filename=None, \n",
    "      metadata=None)\n",
    "```\n",
    "\n",
    "Métodos o atributos del objeto creado:\n",
    "* `metadata`: Atributo string con la metadata con la que fue creado el objeto.\n",
    "* `reaload()`: Método para recargar el contenido del objeto, si fue creado desde url o archivo."
   ]
  },
  {
   "cell_type": "code",
   "execution_count": null,
   "id": "764b7a36",
   "metadata": {},
   "outputs": [],
   "source": [
    "# Ejemplos 1: "
   ]
  },
  {
   "cell_type": "markdown",
   "id": "4ef35d31",
   "metadata": {},
   "source": [
    "Más información"
   ]
  },
  {
   "cell_type": "code",
   "execution_count": null,
   "id": "3214f8aa",
   "metadata": {},
   "outputs": [],
   "source": [
    "from IPython.display import Latex\n",
    "Latex?"
   ]
  },
  {
   "cell_type": "code",
   "execution_count": null,
   "id": "2b1fc948",
   "metadata": {},
   "outputs": [],
   "source": [
    "from IPython.display import Latex\n",
    "print(\"Methods:\")\n",
    "print(sorted([f for f in dir(Latex) if not f.startswith('_')]))"
   ]
  },
  {
   "cell_type": "markdown",
   "id": "1cf66d9d",
   "metadata": {},
   "source": [
    "### 2.14 Markdown\n",
    "\n",
    "```python\n",
    "Markdown(data=None, \n",
    "         url=None, \n",
    "         filename=None, \n",
    "         metadata=None)\n",
    "```\n",
    "\n",
    "Métodos o atributos del objeto creado:\n",
    "* `metadata`: Atributo string con la metadata con la que fue creado el objeto.\n",
    "* `reaload()`: Método para recargar el contenido del objeto, si fue creado desde url o archivo."
   ]
  },
  {
   "cell_type": "code",
   "execution_count": null,
   "id": "3d4cc8a1",
   "metadata": {},
   "outputs": [],
   "source": [
    "# Ejemplo 1: Colocando markdown directamente\n",
    "from IPython.display import Markdown\n",
    "my_markdown = '''\n",
    "## Enfasis\n",
    "\n",
    "**This is bold text**\n",
    "\n",
    "__This is bold text__\n",
    "\n",
    "*This is italic text*\n",
    "\n",
    "_This is italic text_\n",
    "\n",
    "~~Strikethrough~~\n",
    "\n",
    "## Otros\n",
    "(c) (C) (r) (R) (tm) (TM) (p) (P) +-\n",
    "\"Smartypants, double quotes\" and 'single quotes'\n",
    "\n",
    "'''\n",
    "Markdown(my_markdown)"
   ]
  },
  {
   "cell_type": "code",
   "execution_count": null,
   "id": "3f1df7e1",
   "metadata": {},
   "outputs": [],
   "source": [
    "# Ejemplo 2: Desde un archivo\n",
    "from IPython.display import Markdown\n",
    "Markdown(\"files/markdown_example.md\")s"
   ]
  },
  {
   "cell_type": "code",
   "execution_count": null,
   "id": "d2c6ae4e",
   "metadata": {},
   "outputs": [],
   "source": [
    "# Ejemplo 3: Desde una url\n",
    "from IPython.display import Markdown\n",
    "Markdown(\"http://github/x/y/x/markdown_example.md\")"
   ]
  },
  {
   "cell_type": "markdown",
   "id": "a8aa754c",
   "metadata": {},
   "source": [
    "Más información"
   ]
  },
  {
   "cell_type": "code",
   "execution_count": null,
   "id": "6dc5ba51",
   "metadata": {},
   "outputs": [],
   "source": [
    "from IPython.display import Markdown\n",
    "Markdown?"
   ]
  },
  {
   "cell_type": "code",
   "execution_count": null,
   "id": "940278f8",
   "metadata": {},
   "outputs": [],
   "source": [
    "from IPython.display import Markdown\n",
    "print(\"Methods:\")\n",
    "print(sorted([f for f in dir(Markdown) if not f.startswith('_')]))"
   ]
  },
  {
   "cell_type": "markdown",
   "id": "7e2ebd9e",
   "metadata": {},
   "source": [
    "### 2.15 Math\n",
    "\n",
    "```python\n",
    "Math(data=None, \n",
    "     url=None, \n",
    "     filename=None, \n",
    "     metadata=None)\n",
    "```\n",
    "\n",
    "Métodos o atributos del objeto creado:\n",
    "* `metadata`: Atributo string con la metadata con la que fue creado el objeto.\n",
    "* `reaload()`: Método para recargar el contenido del objeto, si fue creado desde url o archivo."
   ]
  },
  {
   "cell_type": "code",
   "execution_count": null,
   "id": "9e5bb034",
   "metadata": {},
   "outputs": [],
   "source": [
    "from IPython.display import Math\n",
    "Math(\"x = 1\")"
   ]
  },
  {
   "cell_type": "markdown",
   "id": "9985e685",
   "metadata": {},
   "source": [
    "Más información"
   ]
  },
  {
   "cell_type": "code",
   "execution_count": null,
   "id": "7e1b71f7",
   "metadata": {},
   "outputs": [],
   "source": [
    "from IPython.display import Math\n",
    "Math?"
   ]
  },
  {
   "cell_type": "code",
   "execution_count": null,
   "id": "84593d3a",
   "metadata": {},
   "outputs": [],
   "source": [
    "from IPython.display import Math\n",
    "print(\"Methods:\")\n",
    "print(sorted([f for f in dir(Math) if not f.startswith('_')]))"
   ]
  },
  {
   "cell_type": "markdown",
   "id": "8b2ee666",
   "metadata": {},
   "source": [
    "### 2.16 Pretty\n",
    "\n",
    "```python\n",
    "Pretty(data=None, \n",
    "       url=None, \n",
    "       filename=None, \n",
    "       metadata=None)\n",
    "```\n",
    "\n",
    "Métodos o atributos del objeto creado:\n",
    "* `metadata`: Atributo string con la metadata con la que fue creado el objeto.\n",
    "* `reaload()`: Método para recargar el contenido del objeto, si fue creado desde url o archivo."
   ]
  },
  {
   "cell_type": "code",
   "execution_count": null,
   "id": "4be6f4d5",
   "metadata": {},
   "outputs": [],
   "source": []
  },
  {
   "cell_type": "markdown",
   "id": "02745b98",
   "metadata": {},
   "source": [
    "Más información"
   ]
  },
  {
   "cell_type": "code",
   "execution_count": null,
   "id": "de225f6e",
   "metadata": {},
   "outputs": [],
   "source": [
    "from IPython.display import Pretty\n",
    "Pretty?"
   ]
  },
  {
   "cell_type": "code",
   "execution_count": null,
   "id": "5938b505",
   "metadata": {},
   "outputs": [],
   "source": [
    "from IPython.display import Pretty\n",
    "print(\"Methods:\")\n",
    "print(sorted([f for f in dir(Pretty) if not f.startswith('_')]))"
   ]
  },
  {
   "cell_type": "markdown",
   "id": "82ee0be9",
   "metadata": {},
   "source": [
    "### 2.17 Progress Bar\n",
    "\n",
    "```python\n",
    "class IPython.display.ProgressBar(\n",
    "    total, # int >0\n",
    ")\n",
    "```\n",
    "\n",
    "Un objeto **Progress Bar** creado tiene los siguientes métodos o atributos:\n",
    "* `display()`: Método que permite desplegar el objeto directamente.\n",
    "* `progress`: Atributo int >0 que permite cambiar el progreso realizado, int >= 0.\n",
    "* `update()`: Método que permite actualizar el display.\n",
    "* `metadata`: Atributo string de la metadata con la que fue creado el objeto.\n",
    "* Me parece que `reload()` no se usa o no aplica en este caso."
   ]
  },
  {
   "cell_type": "code",
   "execution_count": null,
   "id": "4ce45e9b",
   "metadata": {},
   "outputs": [],
   "source": [
    "# Fijar un valor en barra de progreso\n",
    "from IPython.display import ProgressBar\n",
    "pb = ProgressBar(100)\n",
    "pb.progress = 42\n",
    "pb.display()"
   ]
  },
  {
   "cell_type": "code",
   "execution_count": null,
   "id": "db1ae871",
   "metadata": {},
   "outputs": [],
   "source": [
    "# Un ejemplo de manejo de barra de progreso\n",
    "from IPython.display import ProgressBar\n",
    "import time\n",
    "\n",
    "pb = ProgressBar(100)\n",
    "pb.display()\n",
    "for i in range(0,101,5):\n",
    "    pb.progress = i # No es necesario actualizar con pb.update(), solo modificar el valor\n",
    "    time.sleep(.1) # Opcional"
   ]
  },
  {
   "cell_type": "markdown",
   "id": "7a245474",
   "metadata": {},
   "source": [
    "Más información:"
   ]
  },
  {
   "cell_type": "code",
   "execution_count": null,
   "id": "824f4b23",
   "metadata": {},
   "outputs": [],
   "source": [
    "from IPython.display import ProgressBar\n",
    "ProgressBar?"
   ]
  },
  {
   "cell_type": "code",
   "execution_count": null,
   "id": "5ef05d29",
   "metadata": {},
   "outputs": [],
   "source": [
    "from IPython.display import ProgressBar\n",
    "print(\"Methods:\")\n",
    "print(sorted([f for f in dir(ProgressBar) if not f.startswith('_')]))"
   ]
  },
  {
   "cell_type": "markdown",
   "id": "a1270a0e",
   "metadata": {},
   "source": [
    "### 2.18 SVG\n",
    "\n",
    "```python\n",
    "class IPython.display.SVG(data=None,\n",
    "                          url=None,\n",
    "                          filename=None, \n",
    "                          metadata=None)\n",
    "```\n",
    "\n",
    "Un objeto **SVG** creado tiene los siguientes métodos o atributos:\n",
    "* **data**: Entrega los datos del SVG.\n",
    "* **metadata**: String con la metadata proporcionada en la creación.\n",
    "* **reload**: Método para recargar el SVG, si fue creado por url o filename."
   ]
  },
  {
   "cell_type": "code",
   "execution_count": null,
   "id": "6706558b",
   "metadata": {},
   "outputs": [],
   "source": [
    "# Ejemplo 1: archivo local\n",
    "from IPython.display import SVG\n",
    "SVG(filename=\"images/Python.svg\")"
   ]
  },
  {
   "cell_type": "code",
   "execution_count": null,
   "id": "95d3ec1b",
   "metadata": {},
   "outputs": [],
   "source": [
    "# Ejemplo 2: url\n",
    "from IPython.display import SVG\n",
    "SVG(url=\"https://upload.wikimedia.org/wikipedia/commons/c/c3/Python-logo-notext.svg\")"
   ]
  },
  {
   "cell_type": "code",
   "execution_count": null,
   "id": "87c1a3c0",
   "metadata": {},
   "outputs": [],
   "source": [
    "# Ejemplo 3: data\n",
    "from IPython.display import SVG, display\n",
    "data = '<svg height=\"109.8461\" id=\"svg2169\" inkscape:output_extension=\"org.inkscape.output.svg.inkscape\" inkscape:version=\"0.45.1\" sodipodi:docbase=\"/home/bene/Desktop\" sodipodi:docname=\"dessin-1.svg\" sodipodi:version=\"0.32\" version=\"1.0\" width=\"110.4211\" xmlns=\"http://www.w3.org/2000/svg\" xmlns:cc=\"http://web.resource.org/cc/\" xmlns:dc=\"http://purl.org/dc/elements/1.1/\" xmlns:inkscape=\"http://www.inkscape.org/namespaces/inkscape\" xmlns:rdf=\"http://www.w3.org/1999/02/22-rdf-syntax-ns#\" xmlns:sodipodi=\"http://sodipodi.sourceforge.net/DTD/sodipodi-0.dtd\" xmlns:svg=\"http://www.w3.org/2000/svg\" xmlns:xlink=\"http://www.w3.org/1999/xlink\">\\n  <defs id=\"defs2171\">\\n    <linearGradient id=\"linearGradient11301\" inkscape:collect=\"always\">\\n      <stop id=\"stop11303\" offset=\"0\" style=\"stop-color:#ffe052;stop-opacity:1\"/>\\n      <stop id=\"stop11305\" offset=\"1\" style=\"stop-color:#ffc331;stop-opacity:1\"/>\\n    </linearGradient>\\n    <linearGradient gradientUnits=\"userSpaceOnUse\" id=\"linearGradient11307\" inkscape:collect=\"always\" x1=\"89.136749\" x2=\"147.77737\" xlink:href=\"#linearGradient11301\" y1=\"111.92053\" y2=\"168.1012\"/>\\n    <linearGradient id=\"linearGradient9515\" inkscape:collect=\"always\">\\n      <stop id=\"stop9517\" offset=\"0\" style=\"stop-color:#387eb8;stop-opacity:1\"/>\\n      <stop id=\"stop9519\" offset=\"1\" style=\"stop-color:#366994;stop-opacity:1\"/>\\n    </linearGradient>\\n    <linearGradient gradientUnits=\"userSpaceOnUse\" id=\"linearGradient9521\" inkscape:collect=\"always\" x1=\"55.549179\" x2=\"110.14919\" xlink:href=\"#linearGradient9515\" y1=\"77.070274\" y2=\"131.85291\"/>\\n  </defs>\\n  <sodipodi:namedview bordercolor=\"#666666\" borderopacity=\"1.0\" height=\"184.25197px\" id=\"base\" inkscape:current-layer=\"layer1\" inkscape:cx=\"-260.46312\" inkscape:cy=\"316.02744\" inkscape:document-units=\"px\" inkscape:pageopacity=\"0.0\" inkscape:pageshadow=\"2\" inkscape:window-height=\"624\" inkscape:window-width=\"872\" inkscape:window-x=\"5\" inkscape:window-y=\"48\" inkscape:zoom=\"0.24748737\" pagecolor=\"#ffffff\" width=\"131.10236px\"/>\\n  <metadata id=\"metadata2174\">\\n    <rdf:RDF>\\n      <cc:Work rdf:about=\"\">\\n        <dc:format>image/svg+xml</dc:format>\\n        <dc:type rdf:resource=\"http://purl.org/dc/dcmitype/StillImage\"/>\\n      </cc:Work>\\n    </rdf:RDF>\\n  </metadata>\\n  <g id=\"layer1\" inkscape:groupmode=\"layer\" inkscape:label=\"Calque 1\" transform=\"translate(-473.36088,-251.72485)\">\\n    <g id=\"g1894\" transform=\"translate(428.42338,184.2561)\">\\n      <path d=\"M 99.75,67.46875 C 71.718268,67.468752 73.46875,79.625 73.46875,79.625 L 73.5,92.21875 L 100.25,92.21875 L 100.25,96 L 62.875,96 C 62.875,96 44.9375,93.965724 44.9375,122.25 C 44.937498,150.53427 60.59375,149.53125 60.59375,149.53125 L 69.9375,149.53125 L 69.9375,136.40625 C 69.9375,136.40625 69.433848,120.75 85.34375,120.75 C 101.25365,120.75 111.875,120.75 111.875,120.75 C 111.875,120.75 126.78125,120.99096 126.78125,106.34375 C 126.78125,91.696544 126.78125,82.125 126.78125,82.125 C 126.78125,82.124998 129.04443,67.46875 99.75,67.46875 z M 85,75.9375 C 87.661429,75.937498 89.8125,78.088571 89.8125,80.75 C 89.812502,83.411429 87.661429,85.5625 85,85.5625 C 82.338571,85.562502 80.1875,83.411429 80.1875,80.75 C 80.187498,78.088571 82.338571,75.9375 85,75.9375 z \" id=\"path8615\" style=\"opacity:1;color:#000000;fill:url(#linearGradient9521);fill-opacity:1;fill-rule:nonzero;stroke:none;stroke-width:1;stroke-linecap:butt;stroke-linejoin:miter;marker:none;marker-start:none;marker-mid:none;marker-end:none;stroke-miterlimit:4;stroke-dasharray:none;stroke-dashoffset:0;stroke-opacity:1;visibility:visible;display:inline;overflow:visible\"/>\\n      <path d=\"M 100.5461,177.31485 C 128.57784,177.31485 126.82735,165.1586 126.82735,165.1586 L 126.7961,152.56485 L 100.0461,152.56485 L 100.0461,148.7836 L 137.4211,148.7836 C 137.4211,148.7836 155.3586,150.81787 155.3586,122.53359 C 155.35861,94.249323 139.70235,95.252343 139.70235,95.252343 L 130.3586,95.252343 L 130.3586,108.37734 C 130.3586,108.37734 130.86226,124.03359 114.95235,124.03359 C 99.042448,124.03359 88.421098,124.03359 88.421098,124.03359 C 88.421098,124.03359 73.514848,123.79263 73.514848,138.43985 C 73.514848,153.08705 73.514848,162.6586 73.514848,162.6586 C 73.514848,162.6586 71.251668,177.31485 100.5461,177.31485 z M 115.2961,168.8461 C 112.63467,168.8461 110.4836,166.69503 110.4836,164.0336 C 110.4836,161.37217 112.63467,159.2211 115.2961,159.2211 C 117.95753,159.2211 120.1086,161.37217 120.1086,164.0336 C 120.10861,166.69503 117.95753,168.8461 115.2961,168.8461 z \" id=\"path8620\" style=\"opacity:1;color:#000000;fill:url(#linearGradient11307);fill-opacity:1;fill-rule:nonzero;stroke:none;stroke-width:1;stroke-linecap:butt;stroke-linejoin:miter;marker:none;marker-start:none;marker-mid:none;marker-end:none;stroke-miterlimit:4;stroke-dasharray:none;stroke-dashoffset:0;stroke-opacity:1;visibility:visible;display:inline;overflow:visible\"/>\\n    </g>\\n  </g>\\n</svg>'    \n",
    "my_svg = SVG(data=data, metadata = \"SVG creado por datos\")\n",
    "display(my_svg)\n",
    "print(my_svg.metadata)"
   ]
  },
  {
   "cell_type": "markdown",
   "id": "e8367360",
   "metadata": {},
   "source": [
    "Más información:"
   ]
  },
  {
   "cell_type": "code",
   "execution_count": null,
   "id": "b2d0f275",
   "metadata": {},
   "outputs": [],
   "source": [
    "from IPython.display import SVG\n",
    "SVG?"
   ]
  },
  {
   "cell_type": "code",
   "execution_count": null,
   "id": "a1c55079",
   "metadata": {
    "scrolled": true
   },
   "outputs": [],
   "source": [
    "from IPython.display import SVG\n",
    "print(\"Methods:\")\n",
    "print(sorted([f for f in dir(SVG) if not f.startswith('_')]))"
   ]
  },
  {
   "cell_type": "markdown",
   "id": "5526745c",
   "metadata": {},
   "source": [
    "### 2.19 Scribd Document\n",
    "\n",
    "```python\n",
    "ScribdDocument(id, \n",
    "               width=400, \n",
    "               height=300, \n",
    "               **kwargs)\n",
    "```\n",
    "\n",
    "Un objeto **Scribd Document** creado tiene los siguientes métodos o atributos:\n",
    "* `iframe`: String con la representación HTML del objeto."
   ]
  },
  {
   "cell_type": "code",
   "execution_count": null,
   "id": "999d7e38",
   "metadata": {},
   "outputs": [],
   "source": [
    "from IPython.display import ScribdDocument\n",
    "ScribdDocument(56131068, width=600, height=800)"
   ]
  },
  {
   "cell_type": "markdown",
   "id": "614fd8d2",
   "metadata": {},
   "source": [
    "Más información"
   ]
  },
  {
   "cell_type": "code",
   "execution_count": null,
   "id": "5df39671",
   "metadata": {},
   "outputs": [],
   "source": [
    "from IPython.display import ScribdDocument\n",
    "ScribdDocument?"
   ]
  },
  {
   "cell_type": "code",
   "execution_count": null,
   "id": "a1bf7a18",
   "metadata": {},
   "outputs": [],
   "source": [
    "from IPython.display import ScribdDocument\n",
    "print(\"Methods:\")\n",
    "print(sorted([f for f in dir(ScribdDocument) if not f.startswith('_')]))"
   ]
  },
  {
   "cell_type": "markdown",
   "id": "8f681eaa",
   "metadata": {},
   "source": [
    "### 2.20 TextDisplayObject\n",
    "\n",
    "```python\n",
    "TextDisplayObject(data=None, \n",
    "                  url=None, \n",
    "                  filename=None, \n",
    "                  metadata=None) \n",
    "```\n",
    "No parece tener un display visual para jupyter notebook/lab, es más bien una estructura genérica.\n",
    "\n",
    "Un objeto **Text Display Object** creado tiene los siguientes métodos o atributos:\n",
    "* `metadata`: Atributo string con la metadata con la que fue creado el objeto.\n",
    "* `reaload()`: Método para recargar el contenido del objeto, si fue creado desde url o archivo."
   ]
  },
  {
   "cell_type": "code",
   "execution_count": null,
   "id": "dea97458",
   "metadata": {},
   "outputs": [],
   "source": [
    "from IPython.display import TextDisplayObject\n",
    "TextDisplayObject(\"Hmm, para que será esto??\")"
   ]
  },
  {
   "cell_type": "markdown",
   "id": "cccd87f1",
   "metadata": {},
   "source": [
    "Más información"
   ]
  },
  {
   "cell_type": "code",
   "execution_count": null,
   "id": "4650acff",
   "metadata": {},
   "outputs": [],
   "source": [
    "from IPython.display import TextDisplayObject\n",
    "TextDisplayObject?"
   ]
  },
  {
   "cell_type": "code",
   "execution_count": null,
   "id": "5dddcbbc",
   "metadata": {},
   "outputs": [],
   "source": [
    "from IPython.display import TextDisplayObject\n",
    "print(\"Methods:\")\n",
    "print(sorted([f for f in dir(TextDisplayObject) if not f.startswith('_')]))"
   ]
  },
  {
   "cell_type": "markdown",
   "id": "934861fd",
   "metadata": {},
   "source": [
    "### 2.21 Video\n",
    "```python\n",
    "Video(data=None,\n",
    "    url=None,\n",
    "    filename=None,\n",
    "    embed=False,\n",
    "    mimetype=None,\n",
    "    width=None,\n",
    "    height=None,\n",
    "    html_attributes='controls',\n",
    ")\n",
    "```"
   ]
  },
  {
   "cell_type": "code",
   "execution_count": null,
   "id": "40679407",
   "metadata": {},
   "outputs": [],
   "source": [
    "# Ejemplo básico: archivo \n",
    "from IPython.display import Video\n",
    "Video(\"https://upload.wikimedia.org/wikipedia/commons/transcoded/b/b4/Ball_python_%28Python_regius%29_in_a_zoo.webm/Ball_python_%28Python_regius%29_in_a_zoo.webm.1080p.vp9.webm\",\n",
    "      width=600,\n",
    "      height=400)"
   ]
  },
  {
   "cell_type": "code",
   "execution_count": null,
   "id": "25ce46d6",
   "metadata": {},
   "outputs": [],
   "source": [
    "# Ejemplo básico: url\n",
    "from IPython.display import Video\n",
    "Video(\"https://upload.wikimedia.org/wikipedia/commons/transcoded/b/b4/Ball_python_%28Python_regius%29_in_a_zoo.webm/Ball_python_%28Python_regius%29_in_a_zoo.webm.1080p.vp9.webm\",\n",
    "      width=600,\n",
    "      height=400)"
   ]
  },
  {
   "cell_type": "markdown",
   "id": "a594c5c6",
   "metadata": {},
   "source": [
    "Más información:"
   ]
  },
  {
   "cell_type": "code",
   "execution_count": null,
   "id": "c7b747c7",
   "metadata": {},
   "outputs": [],
   "source": [
    "from IPython.display import Video\n",
    "Video?"
   ]
  },
  {
   "cell_type": "code",
   "execution_count": null,
   "id": "82edb17e",
   "metadata": {},
   "outputs": [],
   "source": [
    "from IPython.display import Video\n",
    "print(\"Methods:\")\n",
    "print(sorted([f for f in dir(Video) if not f.startswith('_')]))"
   ]
  },
  {
   "cell_type": "markdown",
   "id": "11bf8f0f",
   "metadata": {},
   "source": [
    "### 2.22 Vimeo Video\n",
    "\n",
    "```python\n",
    "class VimeoVideo(id, \n",
    "                 width=400, \n",
    "                 height=300, \n",
    "                 **kwargs)\n",
    "```\n",
    "\n",
    "Un objeto **Vimeo Video** creado tiene los siguientes métodos o atributos:\n",
    "* `iframe`: String con la representación HTML del objeto."
   ]
  },
  {
   "cell_type": "code",
   "execution_count": null,
   "id": "51de08d7",
   "metadata": {},
   "outputs": [],
   "source": [
    "# Ejemplo:\n",
    "from IPython.display import VimeoVideo, HTML\n",
    "VimeoVideo(148751763, width=600, height=400)"
   ]
  },
  {
   "cell_type": "markdown",
   "id": "02885bca",
   "metadata": {},
   "source": [
    "Más información"
   ]
  },
  {
   "cell_type": "code",
   "execution_count": null,
   "id": "b445517a",
   "metadata": {},
   "outputs": [],
   "source": [
    "from IPython.display import VimeoVideo\n",
    "VimeoVideo?"
   ]
  },
  {
   "cell_type": "code",
   "execution_count": null,
   "id": "b2a3caa2",
   "metadata": {},
   "outputs": [],
   "source": [
    "from IPython.display import VimeoVideo\n",
    "print(\"Methods:\")\n",
    "print(sorted([f for f in dir(VimeoVideo) if not f.startswith('_')]))"
   ]
  },
  {
   "cell_type": "markdown",
   "id": "96297324",
   "metadata": {},
   "source": [
    "### 2.23 Youtube Video\n",
    "\n",
    "```python\n",
    "YouTubeVideo(id, \n",
    "             width=400, \n",
    "             height=300, \n",
    "             **kwargs)\n",
    "```\n",
    "\n",
    "Un objeto **YouTube Video** creado tiene los siguientes métodos o atributos:\n",
    "* `iframe`: String con la representación HTML del objeto."
   ]
  },
  {
   "cell_type": "code",
   "execution_count": null,
   "id": "1e95a271",
   "metadata": {},
   "outputs": [],
   "source": [
    "# Ejemplo:\n",
    "from IPython.display import YouTubeVideo\n",
    "YouTubeVideo(\"j9V78UbdzWI\", width=600, height=400)"
   ]
  },
  {
   "cell_type": "markdown",
   "id": "78fd07ac",
   "metadata": {},
   "source": [
    "Más información"
   ]
  },
  {
   "cell_type": "code",
   "execution_count": null,
   "id": "893eaa60",
   "metadata": {},
   "outputs": [],
   "source": [
    "from IPython.display import YouTubeVideo\n",
    "YouTubeVideo?"
   ]
  },
  {
   "cell_type": "code",
   "execution_count": null,
   "id": "c74e9506",
   "metadata": {},
   "outputs": [],
   "source": [
    "from IPython.display import YouTubeVideo\n",
    "print(\"Methods:\")\n",
    "print(sorted([f for f in dir(YouTubeVideo) if not f.startswith('_')]))"
   ]
  },
  {
   "cell_type": "markdown",
   "id": "27165556",
   "metadata": {},
   "source": [
    "## 3. Enlaces\n",
    "\n",
    "* Documentación oficial: https://ipython.readthedocs.io/en/stable/api/generated/IPython.display.html\n",
    "* Archivos multimedia: https://commons.wikimedia.org/"
   ]
  }
 ],
 "metadata": {
  "kernelspec": {
   "display_name": "Python 3",
   "language": "python",
   "name": "python3"
  },
  "language_info": {
   "codemirror_mode": {
    "name": "ipython",
    "version": 3
   },
   "file_extension": ".py",
   "mimetype": "text/x-python",
   "name": "python",
   "nbconvert_exporter": "python",
   "pygments_lexer": "ipython3",
   "version": "3.7.4"
  }
 },
 "nbformat": 4,
 "nbformat_minor": 5
}
